{
 "cells": [
  {
   "cell_type": "markdown",
   "metadata": {},
   "source": [
    "### Questions:\n",
    "\n",
    "1. Are we always looking for triangles (monochromatic K3)? Or some more general monochromatic Kn?"
   ]
  },
  {
   "cell_type": "markdown",
   "metadata": {},
   "source": [
    "### Ramsey Number Problem\n",
    "This notebook is to create + test the evaluate and solve functions for the purpose of solving the Ramsey problem. "
   ]
  },
  {
   "cell_type": "code",
   "execution_count": 4,
   "metadata": {},
   "outputs": [],
   "source": [
    "from itertools import combinations\n",
    "import numpy as np\n",
    "import random"
   ]
  },
  {
   "cell_type": "markdown",
   "metadata": {},
   "source": [
    "### List all edges"
   ]
  },
  {
   "cell_type": "code",
   "execution_count": 12,
   "metadata": {},
   "outputs": [
    {
     "name": "stdout",
     "output_type": "stream",
     "text": [
      "[[0 1]\n",
      " [0 2]\n",
      " [0 3]\n",
      " [0 4]\n",
      " [1 2]\n",
      " [1 3]\n",
      " [1 4]\n",
      " [2 3]\n",
      " [2 4]\n",
      " [3 4]]\n",
      "(10, 2)\n"
     ]
    }
   ],
   "source": [
    "# Number of nodes in K5\n",
    "n = 5\n",
    "\n",
    "# Generate all combinations of 2 nodes out of 5 (i.e., all edges)\n",
    "edges = np.array(list(combinations(range(n), 2)), dtype=np.int32)\n",
    "\n",
    "print(edges) \n"
   ]
  },
  {
   "cell_type": "markdown",
   "metadata": {},
   "source": [
    "### Priority Function:\n",
    "\n",
    "Funsearch does this part. Assigns priority to each edge in the complete graph (collection of all possible edges)."
   ]
  },
  {
   "cell_type": "code",
   "execution_count": 13,
   "metadata": {},
   "outputs": [],
   "source": [
    "# Placeholder priorities:\n",
    "# priorities = np.array([random.uniform(0, 5) for _ in range(len(edges))], dtype=np.float32)\n",
    "\n",
    "def priority(el: tuple[int, ...], n: int) -> float:\n",
    "  \"\"\"Returns the priority with which we want to add `element` to the cap set.\"\"\"\n",
    "  return random.uniform(0, 5)\n",
    "\n",
    "# priorities"
   ]
  },
  {
   "cell_type": "markdown",
   "metadata": {},
   "source": [
    "### Solve Function:\n",
    "Build graph using edges in order of priority, include each edge if it is legal (no triangle or Kn), output the edges which are in the complement of this graph"
   ]
  },
  {
   "cell_type": "code",
   "execution_count": null,
   "metadata": {},
   "outputs": [],
   "source": [
    "def solve(n: int) -> np.ndarray:\n",
    "  \"\"\"Returns a graph complement to the red graph with 'n' nodes.\"\"\"\n",
    "  all_edges = np.array(list(combinations(range(n), 2)), dtype=np.int32)\n",
    "  print(all_edges)\n",
    "\n",
    "  # Precompute all priorities.\n",
    "  priorities = np.array([priority(tuple(vector), n) for vector in all_edges]) # temp. placeholder\n",
    "  print(priorities)\n",
    "\n",
    "  red_graph = np.empty((0, 2), dtype=np.int32)\n",
    "  blue_graph = np.empty((0,2), dtype=np.int32)\n",
    "  \n",
    "  # Build `coloring 1` graph greedily with no triangles, using priorities for prioritization\n",
    "\n",
    "\n",
    "  # capset = np.empty(shape=(0, n), dtype=np.int32)\n",
    "  # while np.any(priorities != -np.inf):\n",
    "  #   # Add a vector with maximum priority to `capset`, and set priorities of\n",
    "  #   # invalidated vectors to `-inf`, so that they never get selected.\n",
    "  #   max_index = np.argmax(priorities)\n",
    "  #   vector = all_vectors[None, max_index]  # [1, n]\n",
    "  #   blocking = np.einsum('cn,n->c', (- capset - vector) % 3, powers)  # [C]\n",
    "  #   priorities[blocking] = -np.inf\n",
    "  #   priorities[max_index] = -np.inf\n",
    "  #   capset = np.concatenate([capset, vector], axis=0)\n",
    "\n",
    "  return blue_graph"
   ]
  },
  {
   "cell_type": "markdown",
   "metadata": {},
   "source": [
    "### Evaluate Function: \n",
    "Count the number of Kn in the complement graph returned by the solve function. This is the value we are curious about + want to minimize."
   ]
  },
  {
   "cell_type": "code",
   "execution_count": null,
   "metadata": {},
   "outputs": [],
   "source": [
    "# need to change n? or can move edge generation into solve, then n stays the same\n",
    "\n",
    "def evaluate(n: int) -> int:\n",
    "  \"\"\"Returns the size of an `n`-dimensional cap set.\"\"\"\n",
    "  complement_graph = solve(n)\n",
    "  # count how many monochromatic K3 here? or how many Kn there are? count # of n-cliques\n",
    "  return len(capset)"
   ]
  },
  {
   "cell_type": "code",
   "execution_count": 16,
   "metadata": {},
   "outputs": [
    {
     "name": "stdout",
     "output_type": "stream",
     "text": [
      "2\n",
      "0\n"
     ]
    }
   ],
   "source": [
    "import numpy as np\n",
    "from itertools import combinations\n",
    "\n",
    "def count_cliques_from_edges(edges: np.ndarray, k: int) -> int:\n",
    "    \"\"\"\n",
    "    Count the number of complete subgraphs (cliques) of size `k` from a numpy array of edges.\n",
    "    \n",
    "    Args:\n",
    "        edges: A NumPy array of shape (E, 2) representing edges.\n",
    "        k: The size of the clique to count.\n",
    "    \n",
    "    Returns:\n",
    "        The number of cliques of size `k`.\n",
    "    \"\"\"\n",
    "    # Convert edges to a set of tuples for O(1) lookup\n",
    "    edge_set = {tuple(sorted(edge)) for edge in edges}\n",
    "    \n",
    "    # Get unique nodes\n",
    "    nodes = np.unique(edges)\n",
    "\n",
    "    count = 0\n",
    "    # Try all combinations of `k` nodes\n",
    "    for combo in combinations(nodes, k):\n",
    "        # Generate all 2-combinations of nodes within the combo (all pairs)\n",
    "        if all(tuple(sorted(pair)) in edge_set for pair in combinations(combo, 2)):\n",
    "            count += 1\n",
    "            \n",
    "    return count\n",
    "\n",
    "# Example usage\n",
    "edges = np.array([\n",
    "    [0, 1],\n",
    "    [0, 2],\n",
    "    [1, 2],\n",
    "    [1, 3],\n",
    "    [2, 3],\n",
    "    [3, 4]\n",
    "], dtype=np.int32)\n",
    "\n",
    "print(count_cliques_from_edges(edges, 3))  # Count triangles\n",
    "print(count_cliques_from_edges(edges, 4))  # Count 4-node cliques\n"
   ]
  },
  {
   "cell_type": "code",
   "execution_count": null,
   "metadata": {},
   "outputs": [],
   "source": []
  }
 ],
 "metadata": {
  "kernelspec": {
   "display_name": "3.11.4",
   "language": "python",
   "name": "python3"
  },
  "language_info": {
   "codemirror_mode": {
    "name": "ipython",
    "version": 3
   },
   "file_extension": ".py",
   "mimetype": "text/x-python",
   "name": "python",
   "nbconvert_exporter": "python",
   "pygments_lexer": "ipython3",
   "version": "3.11.4"
  }
 },
 "nbformat": 4,
 "nbformat_minor": 2
}
